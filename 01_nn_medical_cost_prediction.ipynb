{
  "nbformat": 4,
  "nbformat_minor": 0,
  "metadata": {
    "colab": {
      "name": "01_nn_medical_cost_prediction.ipynb",
      "provenance": [],
      "authorship_tag": "ABX9TyONM+4OSU1BSOz6CK1ISthP"
    },
    "kernelspec": {
      "name": "python3",
      "display_name": "Python 3"
    },
    "language_info": {
      "name": "python"
    }
  },
  "cells": [
    {
      "cell_type": "code",
      "metadata": {
        "id": "eNV_aPpy-gqH"
      },
      "source": [
        "import tensorflow as tf\n",
        "import numpy as np\n",
        "import pandas as pd\n",
        "import matplotlib.pyplot as plt\n",
        "from sklearn.model_selection import train_test_split\n",
        "%matplotlib inline"
      ],
      "execution_count": 78,
      "outputs": []
    },
    {
      "cell_type": "code",
      "metadata": {
        "colab": {
          "base_uri": "https://localhost:8080/",
          "height": 204
        },
        "id": "Z-NsNdTD-w3c",
        "outputId": "f272ca2e-7867-4888-9d28-2535f754b463"
      },
      "source": [
        "insurance=pd.read_csv('https://raw.githubusercontent.com/stedy/Machine-Learning-with-R-datasets/master/insurance.csv')\n",
        "insurance.head()"
      ],
      "execution_count": null,
      "outputs": [
        {
          "output_type": "execute_result",
          "data": {
            "text/html": [
              "<div>\n",
              "<style scoped>\n",
              "    .dataframe tbody tr th:only-of-type {\n",
              "        vertical-align: middle;\n",
              "    }\n",
              "\n",
              "    .dataframe tbody tr th {\n",
              "        vertical-align: top;\n",
              "    }\n",
              "\n",
              "    .dataframe thead th {\n",
              "        text-align: right;\n",
              "    }\n",
              "</style>\n",
              "<table border=\"1\" class=\"dataframe\">\n",
              "  <thead>\n",
              "    <tr style=\"text-align: right;\">\n",
              "      <th></th>\n",
              "      <th>age</th>\n",
              "      <th>sex</th>\n",
              "      <th>bmi</th>\n",
              "      <th>children</th>\n",
              "      <th>smoker</th>\n",
              "      <th>region</th>\n",
              "      <th>charges</th>\n",
              "    </tr>\n",
              "  </thead>\n",
              "  <tbody>\n",
              "    <tr>\n",
              "      <th>0</th>\n",
              "      <td>19</td>\n",
              "      <td>female</td>\n",
              "      <td>27.900</td>\n",
              "      <td>0</td>\n",
              "      <td>yes</td>\n",
              "      <td>southwest</td>\n",
              "      <td>16884.92400</td>\n",
              "    </tr>\n",
              "    <tr>\n",
              "      <th>1</th>\n",
              "      <td>18</td>\n",
              "      <td>male</td>\n",
              "      <td>33.770</td>\n",
              "      <td>1</td>\n",
              "      <td>no</td>\n",
              "      <td>southeast</td>\n",
              "      <td>1725.55230</td>\n",
              "    </tr>\n",
              "    <tr>\n",
              "      <th>2</th>\n",
              "      <td>28</td>\n",
              "      <td>male</td>\n",
              "      <td>33.000</td>\n",
              "      <td>3</td>\n",
              "      <td>no</td>\n",
              "      <td>southeast</td>\n",
              "      <td>4449.46200</td>\n",
              "    </tr>\n",
              "    <tr>\n",
              "      <th>3</th>\n",
              "      <td>33</td>\n",
              "      <td>male</td>\n",
              "      <td>22.705</td>\n",
              "      <td>0</td>\n",
              "      <td>no</td>\n",
              "      <td>northwest</td>\n",
              "      <td>21984.47061</td>\n",
              "    </tr>\n",
              "    <tr>\n",
              "      <th>4</th>\n",
              "      <td>32</td>\n",
              "      <td>male</td>\n",
              "      <td>28.880</td>\n",
              "      <td>0</td>\n",
              "      <td>no</td>\n",
              "      <td>northwest</td>\n",
              "      <td>3866.85520</td>\n",
              "    </tr>\n",
              "  </tbody>\n",
              "</table>\n",
              "</div>"
            ],
            "text/plain": [
              "   age     sex     bmi  children smoker     region      charges\n",
              "0   19  female  27.900         0    yes  southwest  16884.92400\n",
              "1   18    male  33.770         1     no  southeast   1725.55230\n",
              "2   28    male  33.000         3     no  southeast   4449.46200\n",
              "3   33    male  22.705         0     no  northwest  21984.47061\n",
              "4   32    male  28.880         0     no  northwest   3866.85520"
            ]
          },
          "metadata": {},
          "execution_count": 2
        }
      ]
    },
    {
      "cell_type": "markdown",
      "metadata": {
        "id": "spWLrlEvkUZi"
      },
      "source": [
        "# Feature Scaling and One-hot encoding using make_column_transfer"
      ]
    },
    {
      "cell_type": "code",
      "metadata": {
        "id": "JesTxeco-6Bo"
      },
      "source": [
        "from sklearn.compose import make_column_transformer\n",
        "from sklearn.preprocessing import MinMaxScaler,StandardScaler,OneHotEncoder\n",
        "\n",
        "# Create a column transformer\n",
        "ct=make_column_transformer(\n",
        "    (StandardScaler(),['age','bmi','children']),\n",
        "    (OneHotEncoder(handle_unknown='ignore'),['sex','smoker','region'])\n",
        ")"
      ],
      "execution_count": 109,
      "outputs": []
    },
    {
      "cell_type": "code",
      "metadata": {
        "id": "CvKmeH32BIVl"
      },
      "source": [
        "# Create X & y values(features and labels)\n",
        "X=insurance.drop('charges',axis=1)\n",
        "y=insurance['charges']\n",
        "\n",
        "# Create training and test sets\n",
        "X_train,X_test,y_train,y_test=train_test_split(X,y,test_size=0.2,random_state=42)"
      ],
      "execution_count": 110,
      "outputs": []
    },
    {
      "cell_type": "code",
      "metadata": {
        "id": "TQDW0aASBxSL",
        "colab": {
          "base_uri": "https://localhost:8080/"
        },
        "outputId": "57772dac-fab7-4509-ddee-804313011f99"
      },
      "source": [
        "# Fit the column transfer to our training data\n",
        "ct.fit(X_train)\n",
        "\n",
        "# Transform training and test data with normalization and one-hot encoder\n",
        "X_train_normal=ct.transform(X_train)\n",
        "X_test_normal=ct.transform(X_test)\n",
        "X_train.shape,X_train_normal.shape"
      ],
      "execution_count": 111,
      "outputs": [
        {
          "output_type": "execute_result",
          "data": {
            "text/plain": [
              "((1070, 6), (1070, 11))"
            ]
          },
          "metadata": {},
          "execution_count": 111
        }
      ]
    },
    {
      "cell_type": "markdown",
      "metadata": {
        "id": "tRPEDXZ5P54a"
      },
      "source": [
        "# Create deep neural network using following steps:\n",
        "1. Create a Sequential model consisting information about the no. of neurons in hidden layers and output layer\n",
        "2. Compile the model setting the optimizer to update the weights and loss function\n",
        "3. Fit the model for the training sets for a certain epochs\n",
        "> **Question**: How long should we train for?\n",
        "TensorFlow has a solution! it's called the [EarlyStopping Callback](https://www.tensorflow.org/api_docs/python/tf/keras/callbacks/EarlyStopping), which is a TensorFlow component. We can add to our model to stop training once it stops improving a certain metric."
      ]
    },
    {
      "cell_type": "code",
      "metadata": {
        "colab": {
          "base_uri": "https://localhost:8080/"
        },
        "id": "_g_c9zFjCVGF",
        "outputId": "f34cdc83-5345-455a-c139-db652912f341"
      },
      "source": [
        "tf.random.set_seed(42)\n",
        "callback = tf.keras.callbacks.EarlyStopping(monitor='loss', patience=2)\n",
        "# 1. Create a model\n",
        "insurance_model=tf.keras.Sequential([\n",
        "  # Hidden Layer consisting of 100 neurons                                \n",
        "  tf.keras.layers.Dense(100),\n",
        "  tf.keras.layers.Dense(100),\n",
        "  # Output layer of 1 neuron\n",
        "  tf.keras.layers.Dense(1)   \n",
        "  # N.B: We don't need to specify input_shape as it can be automatically handeled by keras                           \n",
        "])\n",
        "\n",
        "# 2.Compile a model\n",
        "insurance_model.compile(loss=tf.keras.losses.mae,\n",
        "                        optimizer=tf.keras.optimizers.Adam(learning_rate=0.001),\n",
        "                        metrics=[\"mae\"])\n",
        "\n",
        "# 3. Fit the model\n",
        "history=insurance_model.fit(X_train_normal,y_train,epochs=1000, callbacks=[callback])"
      ],
      "execution_count": 113,
      "outputs": [
        {
          "output_type": "stream",
          "text": [
            "Epoch 1/1000\n",
            "34/34 [==============================] - 0s 2ms/step - loss: 13341.6504 - mae: 13341.6504\n",
            "Epoch 2/1000\n",
            "34/34 [==============================] - 0s 2ms/step - loss: 13314.1484 - mae: 13314.1484\n",
            "Epoch 3/1000\n",
            "34/34 [==============================] - 0s 2ms/step - loss: 13216.7217 - mae: 13216.7217\n",
            "Epoch 4/1000\n",
            "34/34 [==============================] - 0s 3ms/step - loss: 12975.7520 - mae: 12975.7520\n",
            "Epoch 5/1000\n",
            "34/34 [==============================] - 0s 2ms/step - loss: 12507.8359 - mae: 12507.8359\n",
            "Epoch 6/1000\n",
            "34/34 [==============================] - 0s 2ms/step - loss: 11750.1543 - mae: 11750.1543\n",
            "Epoch 7/1000\n",
            "34/34 [==============================] - 0s 2ms/step - loss: 10792.8174 - mae: 10792.8174\n",
            "Epoch 8/1000\n",
            "34/34 [==============================] - 0s 2ms/step - loss: 9732.9229 - mae: 9732.9229\n",
            "Epoch 9/1000\n",
            "34/34 [==============================] - 0s 2ms/step - loss: 8719.9150 - mae: 8719.9150\n",
            "Epoch 10/1000\n",
            "34/34 [==============================] - 0s 2ms/step - loss: 7975.1260 - mae: 7975.1260\n",
            "Epoch 11/1000\n",
            "34/34 [==============================] - 0s 2ms/step - loss: 7565.3525 - mae: 7565.3525\n",
            "Epoch 12/1000\n",
            "34/34 [==============================] - 0s 2ms/step - loss: 7325.1099 - mae: 7325.1099\n",
            "Epoch 13/1000\n",
            "34/34 [==============================] - 0s 2ms/step - loss: 7129.5630 - mae: 7129.5630\n",
            "Epoch 14/1000\n",
            "34/34 [==============================] - 0s 2ms/step - loss: 6931.0903 - mae: 6931.0903\n",
            "Epoch 15/1000\n",
            "34/34 [==============================] - 0s 2ms/step - loss: 6730.0864 - mae: 6730.0864\n",
            "Epoch 16/1000\n",
            "34/34 [==============================] - 0s 3ms/step - loss: 6521.6533 - mae: 6521.6533\n",
            "Epoch 17/1000\n",
            "34/34 [==============================] - 0s 2ms/step - loss: 6302.1870 - mae: 6302.1870\n",
            "Epoch 18/1000\n",
            "34/34 [==============================] - 0s 2ms/step - loss: 6067.6099 - mae: 6067.6099\n",
            "Epoch 19/1000\n",
            "34/34 [==============================] - 0s 2ms/step - loss: 5845.8521 - mae: 5845.8521\n",
            "Epoch 20/1000\n",
            "34/34 [==============================] - 0s 2ms/step - loss: 5672.9341 - mae: 5672.9341\n",
            "Epoch 21/1000\n",
            "34/34 [==============================] - 0s 2ms/step - loss: 5553.6533 - mae: 5553.6533\n",
            "Epoch 22/1000\n",
            "34/34 [==============================] - 0s 2ms/step - loss: 5443.8193 - mae: 5443.8193\n",
            "Epoch 23/1000\n",
            "34/34 [==============================] - 0s 2ms/step - loss: 5327.2969 - mae: 5327.2969\n",
            "Epoch 24/1000\n",
            "34/34 [==============================] - 0s 2ms/step - loss: 5200.2300 - mae: 5200.2300\n",
            "Epoch 25/1000\n",
            "34/34 [==============================] - 0s 2ms/step - loss: 5069.0376 - mae: 5069.0376\n",
            "Epoch 26/1000\n",
            "34/34 [==============================] - 0s 2ms/step - loss: 4912.9185 - mae: 4912.9185\n",
            "Epoch 27/1000\n",
            "34/34 [==============================] - 0s 2ms/step - loss: 4750.7949 - mae: 4750.7949\n",
            "Epoch 28/1000\n",
            "34/34 [==============================] - 0s 2ms/step - loss: 4568.4741 - mae: 4568.4741\n",
            "Epoch 29/1000\n",
            "34/34 [==============================] - 0s 2ms/step - loss: 4378.7998 - mae: 4378.7998\n",
            "Epoch 30/1000\n",
            "34/34 [==============================] - 0s 2ms/step - loss: 4198.8555 - mae: 4198.8555\n",
            "Epoch 31/1000\n",
            "34/34 [==============================] - 0s 2ms/step - loss: 4029.2153 - mae: 4029.2153\n",
            "Epoch 32/1000\n",
            "34/34 [==============================] - 0s 2ms/step - loss: 3914.0027 - mae: 3914.0027\n",
            "Epoch 33/1000\n",
            "34/34 [==============================] - 0s 2ms/step - loss: 3833.5869 - mae: 3833.5869\n",
            "Epoch 34/1000\n",
            "34/34 [==============================] - 0s 2ms/step - loss: 3782.2236 - mae: 3782.2236\n",
            "Epoch 35/1000\n",
            "34/34 [==============================] - 0s 2ms/step - loss: 3748.4854 - mae: 3748.4854\n",
            "Epoch 36/1000\n",
            "34/34 [==============================] - 0s 2ms/step - loss: 3731.4543 - mae: 3731.4543\n",
            "Epoch 37/1000\n",
            "34/34 [==============================] - 0s 2ms/step - loss: 3722.2014 - mae: 3722.2014\n",
            "Epoch 38/1000\n",
            "34/34 [==============================] - 0s 2ms/step - loss: 3718.5469 - mae: 3718.5469\n",
            "Epoch 39/1000\n",
            "34/34 [==============================] - 0s 2ms/step - loss: 3710.0386 - mae: 3710.0386\n",
            "Epoch 40/1000\n",
            "34/34 [==============================] - 0s 3ms/step - loss: 3706.3635 - mae: 3706.3635\n",
            "Epoch 41/1000\n",
            "34/34 [==============================] - 0s 2ms/step - loss: 3698.4397 - mae: 3698.4397\n",
            "Epoch 42/1000\n",
            "34/34 [==============================] - 0s 2ms/step - loss: 3705.4670 - mae: 3705.4670\n",
            "Epoch 43/1000\n",
            "34/34 [==============================] - 0s 2ms/step - loss: 3694.3313 - mae: 3694.3313\n",
            "Epoch 44/1000\n",
            "34/34 [==============================] - 0s 2ms/step - loss: 3685.0842 - mae: 3685.0842\n",
            "Epoch 45/1000\n",
            "34/34 [==============================] - 0s 2ms/step - loss: 3679.0405 - mae: 3679.0405\n",
            "Epoch 46/1000\n",
            "34/34 [==============================] - 0s 2ms/step - loss: 3679.0017 - mae: 3679.0017\n",
            "Epoch 47/1000\n",
            "34/34 [==============================] - 0s 2ms/step - loss: 3673.2363 - mae: 3673.2363\n",
            "Epoch 48/1000\n",
            "34/34 [==============================] - 0s 2ms/step - loss: 3664.1089 - mae: 3664.1089\n",
            "Epoch 49/1000\n",
            "34/34 [==============================] - 0s 2ms/step - loss: 3662.8025 - mae: 3662.8025\n",
            "Epoch 50/1000\n",
            "34/34 [==============================] - 0s 2ms/step - loss: 3654.0867 - mae: 3654.0867\n",
            "Epoch 51/1000\n",
            "34/34 [==============================] - 0s 2ms/step - loss: 3652.7468 - mae: 3652.7468\n",
            "Epoch 52/1000\n",
            "34/34 [==============================] - 0s 2ms/step - loss: 3651.3235 - mae: 3651.3235\n",
            "Epoch 53/1000\n",
            "34/34 [==============================] - 0s 2ms/step - loss: 3643.2537 - mae: 3643.2537\n",
            "Epoch 54/1000\n",
            "34/34 [==============================] - 0s 2ms/step - loss: 3642.9592 - mae: 3642.9592\n",
            "Epoch 55/1000\n",
            "34/34 [==============================] - 0s 2ms/step - loss: 3636.6675 - mae: 3636.6675\n",
            "Epoch 56/1000\n",
            "34/34 [==============================] - 0s 2ms/step - loss: 3625.7578 - mae: 3625.7578\n",
            "Epoch 57/1000\n",
            "34/34 [==============================] - 0s 2ms/step - loss: 3622.9729 - mae: 3622.9729\n",
            "Epoch 58/1000\n",
            "34/34 [==============================] - 0s 2ms/step - loss: 3614.7446 - mae: 3614.7446\n",
            "Epoch 59/1000\n",
            "34/34 [==============================] - 0s 2ms/step - loss: 3610.7256 - mae: 3610.7256\n",
            "Epoch 60/1000\n",
            "34/34 [==============================] - 0s 2ms/step - loss: 3605.7783 - mae: 3605.7783\n",
            "Epoch 61/1000\n",
            "34/34 [==============================] - 0s 2ms/step - loss: 3600.0088 - mae: 3600.0088\n",
            "Epoch 62/1000\n",
            "34/34 [==============================] - 0s 2ms/step - loss: 3591.8679 - mae: 3591.8679\n",
            "Epoch 63/1000\n",
            "34/34 [==============================] - 0s 2ms/step - loss: 3587.2483 - mae: 3587.2483\n",
            "Epoch 64/1000\n",
            "34/34 [==============================] - 0s 2ms/step - loss: 3582.8848 - mae: 3582.8848\n",
            "Epoch 65/1000\n",
            "34/34 [==============================] - 0s 3ms/step - loss: 3575.8577 - mae: 3575.8577\n",
            "Epoch 66/1000\n",
            "34/34 [==============================] - 0s 2ms/step - loss: 3567.6255 - mae: 3567.6255\n",
            "Epoch 67/1000\n",
            "34/34 [==============================] - 0s 2ms/step - loss: 3563.3638 - mae: 3563.3638\n",
            "Epoch 68/1000\n",
            "34/34 [==============================] - 0s 2ms/step - loss: 3562.4861 - mae: 3562.4861\n",
            "Epoch 69/1000\n",
            "34/34 [==============================] - 0s 2ms/step - loss: 3553.4929 - mae: 3553.4929\n",
            "Epoch 70/1000\n",
            "34/34 [==============================] - 0s 2ms/step - loss: 3550.1753 - mae: 3550.1753\n",
            "Epoch 71/1000\n",
            "34/34 [==============================] - 0s 2ms/step - loss: 3547.5737 - mae: 3547.5737\n",
            "Epoch 72/1000\n",
            "34/34 [==============================] - 0s 2ms/step - loss: 3538.1440 - mae: 3538.1440\n",
            "Epoch 73/1000\n",
            "34/34 [==============================] - 0s 2ms/step - loss: 3535.6653 - mae: 3535.6653\n",
            "Epoch 74/1000\n",
            "34/34 [==============================] - 0s 2ms/step - loss: 3527.5891 - mae: 3527.5891\n",
            "Epoch 75/1000\n",
            "34/34 [==============================] - 0s 2ms/step - loss: 3525.8989 - mae: 3525.8989\n",
            "Epoch 76/1000\n",
            "34/34 [==============================] - 0s 2ms/step - loss: 3528.2034 - mae: 3528.2034\n",
            "Epoch 77/1000\n",
            "34/34 [==============================] - 0s 2ms/step - loss: 3514.7017 - mae: 3514.7017\n",
            "Epoch 78/1000\n",
            "34/34 [==============================] - 0s 2ms/step - loss: 3514.3000 - mae: 3514.3000\n",
            "Epoch 79/1000\n",
            "34/34 [==============================] - 0s 2ms/step - loss: 3513.8579 - mae: 3513.8579\n",
            "Epoch 80/1000\n",
            "34/34 [==============================] - 0s 2ms/step - loss: 3509.1584 - mae: 3509.1584\n",
            "Epoch 81/1000\n",
            "34/34 [==============================] - 0s 2ms/step - loss: 3504.7886 - mae: 3504.7886\n",
            "Epoch 82/1000\n",
            "34/34 [==============================] - 0s 2ms/step - loss: 3502.1973 - mae: 3502.1973\n",
            "Epoch 83/1000\n",
            "34/34 [==============================] - 0s 2ms/step - loss: 3495.9238 - mae: 3495.9238\n",
            "Epoch 84/1000\n",
            "34/34 [==============================] - 0s 2ms/step - loss: 3488.4312 - mae: 3488.4312\n",
            "Epoch 85/1000\n",
            "34/34 [==============================] - 0s 2ms/step - loss: 3483.6914 - mae: 3483.6914\n",
            "Epoch 86/1000\n",
            "34/34 [==============================] - 0s 2ms/step - loss: 3480.9617 - mae: 3480.9617\n",
            "Epoch 87/1000\n",
            "34/34 [==============================] - 0s 2ms/step - loss: 3478.4248 - mae: 3478.4248\n",
            "Epoch 88/1000\n",
            "34/34 [==============================] - 0s 2ms/step - loss: 3477.7175 - mae: 3477.7175\n",
            "Epoch 89/1000\n",
            "34/34 [==============================] - 0s 3ms/step - loss: 3478.1250 - mae: 3478.1250\n",
            "Epoch 90/1000\n",
            "34/34 [==============================] - 0s 2ms/step - loss: 3477.8420 - mae: 3477.8420\n"
          ],
          "name": "stdout"
        }
      ]
    },
    {
      "cell_type": "markdown",
      "metadata": {
        "id": "lLOkoh15Q7N3"
      },
      "source": [
        "# Model summary"
      ]
    },
    {
      "cell_type": "code",
      "metadata": {
        "colab": {
          "base_uri": "https://localhost:8080/"
        },
        "id": "vV_PtlPNEYpn",
        "outputId": "bb329b5d-f52d-475b-85c4-7707ab8d6655"
      },
      "source": [
        "insurance_model.summary()"
      ],
      "execution_count": 114,
      "outputs": [
        {
          "output_type": "stream",
          "text": [
            "Model: \"sequential_57\"\n",
            "_________________________________________________________________\n",
            "Layer (type)                 Output Shape              Param #   \n",
            "=================================================================\n",
            "dense_152 (Dense)            (None, 100)               1200      \n",
            "_________________________________________________________________\n",
            "dense_153 (Dense)            (None, 100)               10100     \n",
            "_________________________________________________________________\n",
            "dense_154 (Dense)            (None, 1)                 101       \n",
            "=================================================================\n",
            "Total params: 11,401\n",
            "Trainable params: 11,401\n",
            "Non-trainable params: 0\n",
            "_________________________________________________________________\n"
          ],
          "name": "stdout"
        }
      ]
    },
    {
      "cell_type": "markdown",
      "metadata": {
        "id": "HcrsFRJQRBac"
      },
      "source": [
        "# Evalute the model for the test set"
      ]
    },
    {
      "cell_type": "code",
      "metadata": {
        "colab": {
          "base_uri": "https://localhost:8080/"
        },
        "id": "QyWlk_XXEiMd",
        "outputId": "67fc2a57-6af7-482b-a9b7-d9042d61c592"
      },
      "source": [
        "# Evaluate the model on test data\n",
        "insurance_model.evaluate(X_test_normal,y_test)"
      ],
      "execution_count": 115,
      "outputs": [
        {
          "output_type": "stream",
          "text": [
            "9/9 [==============================] - 0s 2ms/step - loss: 3159.2329 - mae: 3159.2329\n"
          ],
          "name": "stdout"
        },
        {
          "output_type": "execute_result",
          "data": {
            "text/plain": [
              "[3159.23291015625, 3159.23291015625]"
            ]
          },
          "metadata": {},
          "execution_count": 115
        }
      ]
    },
    {
      "cell_type": "markdown",
      "metadata": {
        "id": "ExvoZ0Z4P1oW"
      },
      "source": [
        "# Visualizing the training loss curve"
      ]
    },
    {
      "cell_type": "code",
      "metadata": {
        "id": "0LL7nMA0ErpX",
        "colab": {
          "base_uri": "https://localhost:8080/",
          "height": 296
        },
        "outputId": "7cd9eabc-fa25-4582-cf56-ea74a027f0a6"
      },
      "source": [
        "pd.DataFrame(history.history).plot()\n",
        "plt.xlabel('Epochs')\n",
        "plt.ylabel('Loss')"
      ],
      "execution_count": 116,
      "outputs": [
        {
          "output_type": "execute_result",
          "data": {
            "text/plain": [
              "Text(0, 0.5, 'Loss')"
            ]
          },
          "metadata": {},
          "execution_count": 116
        },
        {
          "output_type": "display_data",
          "data": {
            "image/png": "[encoded data removed]",
            "text/plain": [
              "<Figure size 432x288 with 1 Axes>"
            ]
          },
          "metadata": {
            "needs_background": "light"
          }
        }
      ]
    },
    {
      "cell_type": "markdown",
      "metadata": {
        "id": "0UMbl-LgXe1T"
      },
      "source": [
        "# Saving model using-\n",
        "1. The SavedModel format\n",
        "2. The HDF5 format"
      ]
    },
    {
      "cell_type": "code",
      "metadata": {
        "colab": {
          "base_uri": "https://localhost:8080/"
        },
        "id": "p-wNAQeGpKR4",
        "outputId": "3d79edd4-dc73-4c46-c827-a9b5d420702a"
      },
      "source": [
        "insurance_model.save('insurance_model_savedModel_format')"
      ],
      "execution_count": 117,
      "outputs": [
        {
          "output_type": "stream",
          "text": [
            "INFO:tensorflow:Assets written to: insurance_model_savedModel_format/assets\n"
          ],
          "name": "stdout"
        }
      ]
    },
    {
      "cell_type": "code",
      "metadata": {
        "id": "2ZmUWdvupU86"
      },
      "source": [
        "insurance_model.save('insurance_model_HDF5_format.h5')"
      ],
      "execution_count": 118,
      "outputs": []
    },
    {
      "cell_type": "markdown",
      "metadata": {
        "id": "FbupQNPDpgFV"
      },
      "source": [
        "# Loading the saved model"
      ]
    },
    {
      "cell_type": "code",
      "metadata": {
        "colab": {
          "base_uri": "https://localhost:8080/"
        },
        "id": "iBYWeYhxp7Nr",
        "outputId": "560f3f04-b76a-4917-ba91-7434c3e1e5bb"
      },
      "source": [
        "loaded_SavedModel_format=tf.keras.models.load_model('insurance_model_savedModel_format')\n",
        "loaded_SavedModel_format.summary()"
      ],
      "execution_count": 119,
      "outputs": [
        {
          "output_type": "stream",
          "text": [
            "Model: \"sequential_57\"\n",
            "_________________________________________________________________\n",
            "Layer (type)                 Output Shape              Param #   \n",
            "=================================================================\n",
            "dense_152 (Dense)            (None, 100)               1200      \n",
            "_________________________________________________________________\n",
            "dense_153 (Dense)            (None, 100)               10100     \n",
            "_________________________________________________________________\n",
            "dense_154 (Dense)            (None, 1)                 101       \n",
            "=================================================================\n",
            "Total params: 11,401\n",
            "Trainable params: 11,401\n",
            "Non-trainable params: 0\n",
            "_________________________________________________________________\n"
          ],
          "name": "stdout"
        }
      ]
    },
    {
      "cell_type": "code",
      "metadata": {
        "colab": {
          "base_uri": "https://localhost:8080/"
        },
        "id": "Vgyc5kB1qWoz",
        "outputId": "675b5067-f5e5-4421-c0ae-cb67f58ee357"
      },
      "source": [
        "loaded_SavedModel_format.evaluate(X_test_normal,y_test)"
      ],
      "execution_count": 120,
      "outputs": [
        {
          "output_type": "stream",
          "text": [
            "9/9 [==============================] - 0s 2ms/step - loss: 3159.2329 - mae: 3159.2329\n"
          ],
          "name": "stdout"
        },
        {
          "output_type": "execute_result",
          "data": {
            "text/plain": [
              "[3159.23291015625, 3159.23291015625]"
            ]
          },
          "metadata": {},
          "execution_count": 120
        }
      ]
    },
    {
      "cell_type": "markdown",
      "metadata": {
        "id": "9qJ2g_Jpqci7"
      },
      "source": [
        "# Download a saved model from google colab"
      ]
    },
    {
      "cell_type": "code",
      "metadata": {
        "colab": {
          "base_uri": "https://localhost:8080/",
          "height": 17
        },
        "id": "vPHw1javq8Qp",
        "outputId": "5ee7a2b0-4445-4fac-eedf-ec5cb58d893e"
      },
      "source": [
        "from google.colab import files\n",
        "files.download('insurance_model_HDF5_format.h5')"
      ],
      "execution_count": 121,
      "outputs": [
        {
          "output_type": "display_data",
          "data": {
            "application/javascript": [
              "\n",
              "    async function download(id, filename, size) {\n",
              "      if (!google.colab.kernel.accessAllowed) {\n",
              "        return;\n",
              "      }\n",
              "      const div = document.createElement('div');\n",
              "      const label = document.createElement('label');\n",
              "      label.textContent = `Downloading \"${filename}\": `;\n",
              "      div.appendChild(label);\n",
              "      const progress = document.createElement('progress');\n",
              "      progress.max = size;\n",
              "      div.appendChild(progress);\n",
              "      document.body.appendChild(div);\n",
              "\n",
              "      const buffers = [];\n",
              "      let downloaded = 0;\n",
              "\n",
              "      const channel = await google.colab.kernel.comms.open(id);\n",
              "      // Send a message to notify the kernel that we're ready.\n",
              "      channel.send({})\n",
              "\n",
              "      for await (const message of channel.messages) {\n",
              "        // Send a message to notify the kernel that we're ready.\n",
              "        channel.send({})\n",
              "        if (message.buffers) {\n",
              "          for (const buffer of message.buffers) {\n",
              "            buffers.push(buffer);\n",
              "            downloaded += buffer.byteLength;\n",
              "            progress.value = downloaded;\n",
              "          }\n",
              "        }\n",
              "      }\n",
              "      const blob = new Blob(buffers, {type: 'application/binary'});\n",
              "      const a = document.createElement('a');\n",
              "      a.href = window.URL.createObjectURL(blob);\n",
              "      a.download = filename;\n",
              "      div.appendChild(a);\n",
              "      a.click();\n",
              "      div.remove();\n",
              "    }\n",
              "  "
            ],
            "text/plain": [
              "<IPython.core.display.Javascript object>"
            ]
          },
          "metadata": {}
        },
        {
          "output_type": "display_data",
          "data": {
            "application/javascript": [
              "download(\"download_88a6103f-6f53-41fa-a8b1-b38b2d6c67a2\", \"insurance_model_HDF5_format.h5\", 168992)"
            ],
            "text/plain": [
              "<IPython.core.display.Javascript object>"
            ]
          },
          "metadata": {}
        }
      ]
    },
    {
      "cell_type": "code",
      "metadata": {
        "id": "pSTSkhKarGY7"
      },
      "source": [
        ""
      ],
      "execution_count": null,
      "outputs": []
    }
  ]
}