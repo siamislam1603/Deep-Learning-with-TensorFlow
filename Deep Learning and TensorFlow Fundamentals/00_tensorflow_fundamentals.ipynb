{
  "nbformat": 4,
  "nbformat_minor": 0,
  "metadata": {
    "colab": {
      "name": "00_tensorflow_fundamentals.ipynb",
      "provenance": []
    },
    "kernelspec": {
      "name": "python3",
      "display_name": "Python 3"
    },
    "language_info": {
      "name": "python"
    },
    "accelerator": "GPU"
  },
  "cells": [
    {
      "cell_type": "markdown",
      "metadata": {
        "id": "YIUjaXV2cqeb"
      },
      "source": [
        "# Most fundamental concepts of tensors using tensorflow\n",
        "\n",
        "Topics that gonna be covered-\n",
        "* Introduction to tensors\n",
        "* Getting information from tensors\n",
        "* Manipulating tensors\n",
        "* Tensor & numpy\n",
        "* Using @tf.function (a way to speed up regular python functions)\n",
        "* Using GPUs with TensorFlow (or TPUs)\n",
        "* Exercises to sharpen skill"
      ]
    },
    {
      "cell_type": "markdown",
      "metadata": {
        "id": "kfKep3MDefGz"
      },
      "source": [
        "## Introduction to Tensors"
      ]
    },
    {
      "cell_type": "code",
      "metadata": {
        "colab": {
          "base_uri": "https://localhost:8080/"
        },
        "id": "nMUcNINaepcM",
        "outputId": "c941b73d-cd7f-401a-e9ac-d3c349ce5c53"
      },
      "source": [
        "import tensorflow as tf\n",
        "print(tf.__version__)"
      ],
      "execution_count": 1,
      "outputs": [
        {
          "output_type": "stream",
          "text": [
            "2.5.0\n"
          ],
          "name": "stdout"
        }
      ]
    },
    {
      "cell_type": "markdown",
      "metadata": {
        "id": "TMbqYDHGi4mF"
      },
      "source": [
        "* Scalar: a single number\n",
        "* Vector: a number with direction (e.g. wind speed and direction)\n",
        "* Matrix: a 2-dimensional array of numbers\n",
        "* Tensor: an n-dimensional array of numbers(when n can be any number,a 0-dimensional tensor is a scalar,a 1-dimensional tensor is a vector)"
      ]
    },
    {
      "cell_type": "markdown",
      "metadata": {
        "id": "gTpqZKKsj7R5"
      },
      "source": [
        "# Constant/unchanged tensors which means we can't update tensor elements"
      ]
    },
    {
      "cell_type": "code",
      "metadata": {
        "colab": {
          "base_uri": "https://localhost:8080/"
        },
        "id": "Ta0sFpo_ewH2",
        "outputId": "c7b588d0-ad54-4972-ca58-e34ee7d2295e"
      },
      "source": [
        "# Creating tensors with tf.constant()\n",
        "scalar=tf.constant(7)\n",
        "scalar"
      ],
      "execution_count": 2,
      "outputs": [
        {
          "output_type": "execute_result",
          "data": {
            "text/plain": [
              "<tf.Tensor: shape=(), dtype=int32, numpy=7>"
            ]
          },
          "metadata": {
            "tags": []
          },
          "execution_count": 2
        }
      ]
    },
    {
      "cell_type": "code",
      "metadata": {
        "colab": {
          "base_uri": "https://localhost:8080/"
        },
        "id": "k_v5VRwzfKx0",
        "outputId": "e7304b00-62ef-42c3-e206-c8ed52049959"
      },
      "source": [
        "# Checking the no. of dimensions of a tensor(ndim stands for no. of dimensions)\n",
        "scalar.ndim"
      ],
      "execution_count": 3,
      "outputs": [
        {
          "output_type": "execute_result",
          "data": {
            "text/plain": [
              "0"
            ]
          },
          "metadata": {
            "tags": []
          },
          "execution_count": 3
        }
      ]
    },
    {
      "cell_type": "code",
      "metadata": {
        "colab": {
          "base_uri": "https://localhost:8080/"
        },
        "id": "Tucfobzofns0",
        "outputId": "5dae64ce-6218-4a16-b125-d749eb1b4442"
      },
      "source": [
        "# Creating a vector\n",
        "vector=tf.constant([10,10])\n",
        "vector"
      ],
      "execution_count": 4,
      "outputs": [
        {
          "output_type": "execute_result",
          "data": {
            "text/plain": [
              "<tf.Tensor: shape=(2,), dtype=int32, numpy=array([10, 10], dtype=int32)>"
            ]
          },
          "metadata": {
            "tags": []
          },
          "execution_count": 4
        }
      ]
    },
    {
      "cell_type": "code",
      "metadata": {
        "colab": {
          "base_uri": "https://localhost:8080/"
        },
        "id": "1mnMG5xofyw7",
        "outputId": "a1538306-aea9-4c8f-e813-58838fae3ef7"
      },
      "source": [
        "# check the dimension of the vector\n",
        "vector.ndim"
      ],
      "execution_count": 5,
      "outputs": [
        {
          "output_type": "execute_result",
          "data": {
            "text/plain": [
              "1"
            ]
          },
          "metadata": {
            "tags": []
          },
          "execution_count": 5
        }
      ]
    },
    {
      "cell_type": "code",
      "metadata": {
        "colab": {
          "base_uri": "https://localhost:8080/"
        },
        "id": "w5ILu9EAf1se",
        "outputId": "0df01792-c351-41e8-8726-d0ad46f3198f"
      },
      "source": [
        "# Create a matrix(has more than 1 dimension)\n",
        "matrix=tf.constant([[10,7],\n",
        "                    [7,10]])\n",
        "matrix"
      ],
      "execution_count": 6,
      "outputs": [
        {
          "output_type": "execute_result",
          "data": {
            "text/plain": [
              "<tf.Tensor: shape=(2, 2), dtype=int32, numpy=\n",
              "array([[10,  7],\n",
              "       [ 7, 10]], dtype=int32)>"
            ]
          },
          "metadata": {
            "tags": []
          },
          "execution_count": 6
        }
      ]
    },
    {
      "cell_type": "code",
      "metadata": {
        "colab": {
          "base_uri": "https://localhost:8080/"
        },
        "id": "fB0B6ZVfgRpF",
        "outputId": "6889a078-e24c-4a11-e204-6c9ccd60c0d4"
      },
      "source": [
        "matrix.ndim"
      ],
      "execution_count": 7,
      "outputs": [
        {
          "output_type": "execute_result",
          "data": {
            "text/plain": [
              "2"
            ]
          },
          "metadata": {
            "tags": []
          },
          "execution_count": 7
        }
      ]
    },
    {
      "cell_type": "code",
      "metadata": {
        "colab": {
          "base_uri": "https://localhost:8080/"
        },
        "id": "JFEQJ8P_gfgo",
        "outputId": "55c23c65-e144-47f6-91f7-d00620f6b6c2"
      },
      "source": [
        "# create another matrix\n",
        "another_matrix=tf.constant([[10.,7.],\n",
        "                            [3.,2.],\n",
        "                            [8.,9.]],dtype=tf.float16) #specify the datatype with dtype parameter\n",
        "another_matrix"
      ],
      "execution_count": 8,
      "outputs": [
        {
          "output_type": "execute_result",
          "data": {
            "text/plain": [
              "<tf.Tensor: shape=(3, 2), dtype=float16, numpy=\n",
              "array([[10.,  7.],\n",
              "       [ 3.,  2.],\n",
              "       [ 8.,  9.]], dtype=float16)>"
            ]
          },
          "metadata": {
            "tags": []
          },
          "execution_count": 8
        }
      ]
    },
    {
      "cell_type": "code",
      "metadata": {
        "colab": {
          "base_uri": "https://localhost:8080/"
        },
        "id": "aKKJfbA8hQuv",
        "outputId": "86272741-e207-43e0-f4d5-9ebf7cf499f1"
      },
      "source": [
        "another_matrix.ndim"
      ],
      "execution_count": 9,
      "outputs": [
        {
          "output_type": "execute_result",
          "data": {
            "text/plain": [
              "2"
            ]
          },
          "metadata": {
            "tags": []
          },
          "execution_count": 9
        }
      ]
    },
    {
      "cell_type": "code",
      "metadata": {
        "colab": {
          "base_uri": "https://localhost:8080/"
        },
        "id": "c8aG49WIhVaF",
        "outputId": "03af7088-0abf-475b-8d7e-2860c9bc565c"
      },
      "source": [
        "# Create a tensor\n",
        "tensor=tf.constant([[[1,2,3],\n",
        "                     [4,5,6]],\n",
        "                    [[7,8,9],\n",
        "                     [10,11,12]],\n",
        "                    [[13,14,15],\n",
        "                     [16,17,18]]])\n",
        "tensor"
      ],
      "execution_count": 10,
      "outputs": [
        {
          "output_type": "execute_result",
          "data": {
            "text/plain": [
              "<tf.Tensor: shape=(3, 2, 3), dtype=int32, numpy=\n",
              "array([[[ 1,  2,  3],\n",
              "        [ 4,  5,  6]],\n",
              "\n",
              "       [[ 7,  8,  9],\n",
              "        [10, 11, 12]],\n",
              "\n",
              "       [[13, 14, 15],\n",
              "        [16, 17, 18]]], dtype=int32)>"
            ]
          },
          "metadata": {
            "tags": []
          },
          "execution_count": 10
        }
      ]
    },
    {
      "cell_type": "code",
      "metadata": {
        "colab": {
          "base_uri": "https://localhost:8080/"
        },
        "id": "srlAJ22EiIjr",
        "outputId": "91448a0d-7e41-4f66-9f79-c347e42d30f2"
      },
      "source": [
        "tensor.ndim"
      ],
      "execution_count": 11,
      "outputs": [
        {
          "output_type": "execute_result",
          "data": {
            "text/plain": [
              "3"
            ]
          },
          "metadata": {
            "tags": []
          },
          "execution_count": 11
        }
      ]
    },
    {
      "cell_type": "markdown",
      "metadata": {
        "id": "w4IPjLg1kG-I"
      },
      "source": [
        "# Variable tensor/changeable tensor"
      ]
    },
    {
      "cell_type": "code",
      "metadata": {
        "id": "uSBJZR_lBUF2",
        "colab": {
          "base_uri": "https://localhost:8080/"
        },
        "outputId": "fc9d4e35-2663-4b50-d81b-53c8ab6146bc"
      },
      "source": [
        "changeable_tensor=tf.Variable([10,7])\n",
        "changeable_tensor"
      ],
      "execution_count": 12,
      "outputs": [
        {
          "output_type": "execute_result",
          "data": {
            "text/plain": [
              "<tf.Variable 'Variable:0' shape=(2,) dtype=int32, numpy=array([10,  7], dtype=int32)>"
            ]
          },
          "metadata": {
            "tags": []
          },
          "execution_count": 12
        }
      ]
    },
    {
      "cell_type": "code",
      "metadata": {
        "colab": {
          "base_uri": "https://localhost:8080/"
        },
        "id": "8tX99DaukcB4",
        "outputId": "c35c3361-a4e1-4147-e4e0-c4818f48c667"
      },
      "source": [
        "# Change the first element of the vector\n",
        "print(changeable_tensor[0])\n",
        "changeable_tensor[0].assign(3)\n",
        "changeable_tensor"
      ],
      "execution_count": 13,
      "outputs": [
        {
          "output_type": "stream",
          "text": [
            "tf.Tensor(10, shape=(), dtype=int32)\n"
          ],
          "name": "stdout"
        },
        {
          "output_type": "execute_result",
          "data": {
            "text/plain": [
              "<tf.Variable 'Variable:0' shape=(2,) dtype=int32, numpy=array([3, 7], dtype=int32)>"
            ]
          },
          "metadata": {
            "tags": []
          },
          "execution_count": 13
        }
      ]
    },
    {
      "cell_type": "markdown",
      "metadata": {
        "id": "GuDYOQ1hkqJX"
      },
      "source": [
        "# Creating random tensors\n",
        "Random tensors are tensors of some arbitrary size which contain random numbers"
      ]
    },
    {
      "cell_type": "code",
      "metadata": {
        "id": "xMxGLly_rSJZ",
        "colab": {
          "base_uri": "https://localhost:8080/"
        },
        "outputId": "c2dde605-9c11-4e0f-bb7e-6705d252a108"
      },
      "source": [
        "# Create 2 random tensors(but the same)\n",
        "random_1=tf.random.Generator.from_seed(42) # set seed for reproducibility\n",
        "random_1=random_1.normal(shape=(3,2))\n",
        "random_2=tf.random.Generator.from_seed(42)\n",
        "random_2=random_2.normal(shape=(3,2))\n",
        "random_1, random_2, random_1==random_2"
      ],
      "execution_count": 14,
      "outputs": [
        {
          "output_type": "execute_result",
          "data": {
            "text/plain": [
              "(<tf.Tensor: shape=(3, 2), dtype=float32, numpy=\n",
              " array([[-0.7565803 , -0.06854702],\n",
              "        [ 0.07595026, -1.2573844 ],\n",
              "        [-0.23193765, -1.8107855 ]], dtype=float32)>,\n",
              " <tf.Tensor: shape=(3, 2), dtype=float32, numpy=\n",
              " array([[-0.7565803 , -0.06854702],\n",
              "        [ 0.07595026, -1.2573844 ],\n",
              "        [-0.23193765, -1.8107855 ]], dtype=float32)>,\n",
              " <tf.Tensor: shape=(3, 2), dtype=bool, numpy=\n",
              " array([[ True,  True],\n",
              "        [ True,  True],\n",
              "        [ True,  True]])>)"
            ]
          },
          "metadata": {
            "tags": []
          },
          "execution_count": 14
        }
      ]
    },
    {
      "cell_type": "code",
      "metadata": {
        "colab": {
          "base_uri": "https://localhost:8080/"
        },
        "id": "SEEggwtTsEJv",
        "outputId": "45c22fd2-986a-4ed2-dceb-4f8f46a42c23"
      },
      "source": [
        "random_3=tf.random.Generator.from_seed(7)\n",
        "random_3=random_3.normal(shape=(3,2))\n",
        "random_2, random_3, random_2==random_3"
      ],
      "execution_count": 15,
      "outputs": [
        {
          "output_type": "execute_result",
          "data": {
            "text/plain": [
              "(<tf.Tensor: shape=(3, 2), dtype=float32, numpy=\n",
              " array([[-0.7565803 , -0.06854702],\n",
              "        [ 0.07595026, -1.2573844 ],\n",
              "        [-0.23193765, -1.8107855 ]], dtype=float32)>,\n",
              " <tf.Tensor: shape=(3, 2), dtype=float32, numpy=\n",
              " array([[-1.3240396 ,  0.2878567 ],\n",
              "        [-0.8757901 , -0.08857017],\n",
              "        [ 0.69211644,  0.84215707]], dtype=float32)>,\n",
              " <tf.Tensor: shape=(3, 2), dtype=bool, numpy=\n",
              " array([[False, False],\n",
              "        [False, False],\n",
              "        [False, False]])>)"
            ]
          },
          "metadata": {
            "tags": []
          },
          "execution_count": 15
        }
      ]
    },
    {
      "cell_type": "markdown",
      "metadata": {
        "id": "QO2GoFFlu61E"
      },
      "source": [
        "# Shuffle the order of elements in a tensor\n",
        "It lools like if we want our shuffled tensors to be in the same order,we've got to use the global level random seed as well as the operation level random seed:\n",
        "\n",
        "> Rule 4: \"If both the global and the operation seed are set: Both seeds are used in conjunction to determine the reandom sequence.\""
      ]
    },
    {
      "cell_type": "code",
      "metadata": {
        "colab": {
          "base_uri": "https://localhost:8080/"
        },
        "id": "iRWFHydoJh46",
        "outputId": "b27e56ea-4c09-42f9-d587-f9a7a5d0a924"
      },
      "source": [
        "not_shuffled1=tf.random.Generator.from_seed(42)\n",
        "not_shuffled1=not_shuffled1.normal(shape=(3,2))\n",
        "not_shuffled1"
      ],
      "execution_count": 21,
      "outputs": [
        {
          "output_type": "execute_result",
          "data": {
            "text/plain": [
              "<tf.Tensor: shape=(3, 2), dtype=float32, numpy=\n",
              "array([[-0.7565803 , -0.06854702],\n",
              "       [ 0.07595026, -1.2573844 ],\n",
              "       [-0.23193765, -1.8107855 ]], dtype=float32)>"
            ]
          },
          "metadata": {
            "tags": []
          },
          "execution_count": 21
        }
      ]
    },
    {
      "cell_type": "code",
      "metadata": {
        "colab": {
          "base_uri": "https://localhost:8080/"
        },
        "id": "tZVUL3lRKiJ_",
        "outputId": "a4158c93-cd93-4c2c-ca29-a13f1c197326"
      },
      "source": [
        "# Shuffle our non-shuffled tensor\n",
        "print(tf.random.shuffle(not_shuffled1))"
      ],
      "execution_count": 23,
      "outputs": [
        {
          "output_type": "stream",
          "text": [
            "tf.Tensor(\n",
            "[[ 0.07595026 -1.2573844 ]\n",
            " [-0.23193765 -1.8107855 ]\n",
            " [-0.7565803  -0.06854702]], shape=(3, 2), dtype=float32)\n"
          ],
          "name": "stdout"
        }
      ]
    },
    {
      "cell_type": "code",
      "metadata": {
        "colab": {
          "base_uri": "https://localhost:8080/"
        },
        "id": "dN4Y5cTtLDYc",
        "outputId": "ce316c83-d283-4e3a-96e5-e5957068e222"
      },
      "source": [
        "tf.random.set_seed(4) # global level random seed\n",
        "tf.random.shuffle(not_shuffled1,seed=4) # operation level random seed"
      ],
      "execution_count": 24,
      "outputs": [
        {
          "output_type": "execute_result",
          "data": {
            "text/plain": [
              "<tf.Tensor: shape=(3, 2), dtype=float32, numpy=\n",
              "array([[-0.7565803 , -0.06854702],\n",
              "       [ 0.07595026, -1.2573844 ],\n",
              "       [-0.23193765, -1.8107855 ]], dtype=float32)>"
            ]
          },
          "metadata": {
            "tags": []
          },
          "execution_count": 24
        }
      ]
    },
    {
      "cell_type": "code",
      "metadata": {
        "colab": {
          "base_uri": "https://localhost:8080/"
        },
        "id": "vQoQoi8mLiDG",
        "outputId": "622aa563-2eb2-4a3e-fd75-69fafbe2e156"
      },
      "source": [
        "tf.random.set_seed(4)\n",
        "tf.random.shuffle(not_shuffled1,seed=5)"
      ],
      "execution_count": 28,
      "outputs": [
        {
          "output_type": "execute_result",
          "data": {
            "text/plain": [
              "<tf.Tensor: shape=(3, 2), dtype=float32, numpy=\n",
              "array([[-0.23193765, -1.8107855 ],\n",
              "       [-0.7565803 , -0.06854702],\n",
              "       [ 0.07595026, -1.2573844 ]], dtype=float32)>"
            ]
          },
          "metadata": {
            "tags": []
          },
          "execution_count": 28
        }
      ]
    },
    {
      "cell_type": "markdown",
      "metadata": {
        "id": "QOQwpAj2s-UZ"
      },
      "source": [
        "# Other ways to make tensors"
      ]
    },
    {
      "cell_type": "code",
      "metadata": {
        "colab": {
          "base_uri": "https://localhost:8080/"
        },
        "id": "Newpki5etc90",
        "outputId": "960b06ae-10ba-4ed4-ba1f-5e88cc896ed0"
      },
      "source": [
        "tf.ones([10,5])"
      ],
      "execution_count": 34,
      "outputs": [
        {
          "output_type": "execute_result",
          "data": {
            "text/plain": [
              "<tf.Tensor: shape=(10, 5), dtype=float32, numpy=\n",
              "array([[1., 1., 1., 1., 1.],\n",
              "       [1., 1., 1., 1., 1.],\n",
              "       [1., 1., 1., 1., 1.],\n",
              "       [1., 1., 1., 1., 1.],\n",
              "       [1., 1., 1., 1., 1.],\n",
              "       [1., 1., 1., 1., 1.],\n",
              "       [1., 1., 1., 1., 1.],\n",
              "       [1., 1., 1., 1., 1.],\n",
              "       [1., 1., 1., 1., 1.],\n",
              "       [1., 1., 1., 1., 1.]], dtype=float32)>"
            ]
          },
          "metadata": {
            "tags": []
          },
          "execution_count": 34
        }
      ]
    },
    {
      "cell_type": "code",
      "metadata": {
        "colab": {
          "base_uri": "https://localhost:8080/"
        },
        "id": "XN-QW4uRtgWz",
        "outputId": "b9fffa59-6adf-440e-cd5b-7e2d2a85e447"
      },
      "source": [
        "tf.zeros(shape=(4,3))"
      ],
      "execution_count": 35,
      "outputs": [
        {
          "output_type": "execute_result",
          "data": {
            "text/plain": [
              "<tf.Tensor: shape=(4, 3), dtype=float32, numpy=\n",
              "array([[0., 0., 0.],\n",
              "       [0., 0., 0.],\n",
              "       [0., 0., 0.],\n",
              "       [0., 0., 0.]], dtype=float32)>"
            ]
          },
          "metadata": {
            "tags": []
          },
          "execution_count": 35
        }
      ]
    },
    {
      "cell_type": "markdown",
      "metadata": {
        "id": "VWakgr8xtkp5"
      },
      "source": [
        "# Turn Numpy arrays into tensors\n",
        "\n",
        "The main difference between Numpy arrays and TensorFlow tensors is that tensors can be run on a GPU (much faster for numerical computing)"
      ]
    },
    {
      "cell_type": "code",
      "metadata": {
        "colab": {
          "base_uri": "https://localhost:8080/"
        },
        "id": "3WRZrgDuuAtV",
        "outputId": "7f2791ce-ae69-46dd-9efd-54fb7dddeb4a"
      },
      "source": [
        "import numpy as np\n",
        "numpy_A=np.arange(1,25,dtype=np.int32)\n",
        "numpy_A"
      ],
      "execution_count": 36,
      "outputs": [
        {
          "output_type": "execute_result",
          "data": {
            "text/plain": [
              "array([ 1,  2,  3,  4,  5,  6,  7,  8,  9, 10, 11, 12, 13, 14, 15, 16, 17,\n",
              "       18, 19, 20, 21, 22, 23, 24], dtype=int32)"
            ]
          },
          "metadata": {
            "tags": []
          },
          "execution_count": 36
        }
      ]
    },
    {
      "cell_type": "code",
      "metadata": {
        "colab": {
          "base_uri": "https://localhost:8080/"
        },
        "id": "vVO2bVHCuMYm",
        "outputId": "b09458a3-99d9-4ecd-a465-142e3965e8a0"
      },
      "source": [
        "A=tf.constant(numpy_A)\n",
        "B=tf.constant(numpy_A,shape=(2,3,4))\n",
        "A,B"
      ],
      "execution_count": 39,
      "outputs": [
        {
          "output_type": "execute_result",
          "data": {
            "text/plain": [
              "(<tf.Tensor: shape=(24,), dtype=int32, numpy=\n",
              " array([ 1,  2,  3,  4,  5,  6,  7,  8,  9, 10, 11, 12, 13, 14, 15, 16, 17,\n",
              "        18, 19, 20, 21, 22, 23, 24], dtype=int32)>,\n",
              " <tf.Tensor: shape=(2, 3, 4), dtype=int32, numpy=\n",
              " array([[[ 1,  2,  3,  4],\n",
              "         [ 5,  6,  7,  8],\n",
              "         [ 9, 10, 11, 12]],\n",
              " \n",
              "        [[13, 14, 15, 16],\n",
              "         [17, 18, 19, 20],\n",
              "         [21, 22, 23, 24]]], dtype=int32)>)"
            ]
          },
          "metadata": {
            "tags": []
          },
          "execution_count": 39
        }
      ]
    },
    {
      "cell_type": "code",
      "metadata": {
        "colab": {
          "base_uri": "https://localhost:8080/"
        },
        "id": "dzUPvEuauSDX",
        "outputId": "629bd191-911c-4b32-9503-0c08c05a51a1"
      },
      "source": [
        "A.ndim, B.ndim"
      ],
      "execution_count": 40,
      "outputs": [
        {
          "output_type": "execute_result",
          "data": {
            "text/plain": [
              "(1, 3)"
            ]
          },
          "metadata": {
            "tags": []
          },
          "execution_count": 40
        }
      ]
    },
    {
      "cell_type": "code",
      "metadata": {
        "id": "dSS_dYjUulyV"
      },
      "source": [
        ""
      ],
      "execution_count": null,
      "outputs": []
    }
  ]
}