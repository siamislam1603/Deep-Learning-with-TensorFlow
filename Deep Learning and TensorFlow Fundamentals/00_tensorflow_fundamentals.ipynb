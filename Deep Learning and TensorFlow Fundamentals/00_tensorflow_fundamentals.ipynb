{
  "nbformat": 4,
  "nbformat_minor": 0,
  "metadata": {
    "colab": {
      "name": "00_tensorflow_fundamentals.ipynb",
      "provenance": []
    },
    "kernelspec": {
      "name": "python3",
      "display_name": "Python 3"
    },
    "language_info": {
      "name": "python"
    },
    "accelerator": "GPU"
  },
  "cells": [
    {
      "cell_type": "markdown",
      "metadata": {
        "id": "YIUjaXV2cqeb"
      },
      "source": [
        "# Most fundamental concepts of tensors using tensorflow\n",
        "\n",
        "Topics that gonna be covered-\n",
        "* Introduction to tensors\n",
        "* Getting information from tensors\n",
        "* Manipulating tensors\n",
        "* Tensor & numpy\n",
        "* Using @tf.function (a way to speed up regular python functions)\n",
        "* Using GPUs with TensorFlow (or TPUs)\n",
        "* Exercises to sharpen skill"
      ]
    },
    {
      "cell_type": "markdown",
      "metadata": {
        "id": "kfKep3MDefGz"
      },
      "source": [
        "## Introduction to Tensors"
      ]
    },
    {
      "cell_type": "code",
      "metadata": {
        "colab": {
          "base_uri": "https://localhost:8080/"
        },
        "id": "nMUcNINaepcM",
        "outputId": "878441c9-6ea4-4dee-aa1e-34572c3841e5"
      },
      "source": [
        "import tensorflow as tf\n",
        "print(tf.__version__)"
      ],
      "execution_count": 84,
      "outputs": [
        {
          "output_type": "stream",
          "text": [
            "2.5.0\n"
          ],
          "name": "stdout"
        }
      ]
    },
    {
      "cell_type": "markdown",
      "metadata": {
        "id": "TMbqYDHGi4mF"
      },
      "source": [
        "* Scalar: a single number\n",
        "* Vector: a number with direction (e.g. wind speed and direction)\n",
        "* Matrix: a 2-dimensional array of numbers\n",
        "* Tensor: an n-dimensional array of numbers(when n can be any number,a 0-dimensional tensor is a scalar,a 1-dimensional tensor is a vector)"
      ]
    },
    {
      "cell_type": "markdown",
      "metadata": {
        "id": "gTpqZKKsj7R5"
      },
      "source": [
        "# Constant/unchanged tensors which means we can't update tensor elements"
      ]
    },
    {
      "cell_type": "code",
      "metadata": {
        "colab": {
          "base_uri": "https://localhost:8080/"
        },
        "id": "Ta0sFpo_ewH2",
        "outputId": "f2ed0928-7ef8-4191-b90e-4f24b87e5652"
      },
      "source": [
        "# Creating tensors with tf.constant()\n",
        "scalar=tf.constant(7)\n",
        "scalar"
      ],
      "execution_count": 68,
      "outputs": [
        {
          "output_type": "execute_result",
          "data": {
            "text/plain": [
              "<tf.Tensor: shape=(), dtype=int32, numpy=7>"
            ]
          },
          "metadata": {
            "tags": []
          },
          "execution_count": 68
        }
      ]
    },
    {
      "cell_type": "code",
      "metadata": {
        "colab": {
          "base_uri": "https://localhost:8080/"
        },
        "id": "k_v5VRwzfKx0",
        "outputId": "ba7ce1a5-fe36-484f-d450-cde54eac0dc8"
      },
      "source": [
        "# Checking the no. of dimensions of a tensor(ndim stands for no. of dimensions)\n",
        "scalar.ndim"
      ],
      "execution_count": 69,
      "outputs": [
        {
          "output_type": "execute_result",
          "data": {
            "text/plain": [
              "0"
            ]
          },
          "metadata": {
            "tags": []
          },
          "execution_count": 69
        }
      ]
    },
    {
      "cell_type": "code",
      "metadata": {
        "colab": {
          "base_uri": "https://localhost:8080/"
        },
        "id": "Tucfobzofns0",
        "outputId": "64d97a46-3ce0-4aee-cc65-73c4daa0fb7c"
      },
      "source": [
        "# Creating a vector\n",
        "vector=tf.constant([10,10])\n",
        "vector"
      ],
      "execution_count": 70,
      "outputs": [
        {
          "output_type": "execute_result",
          "data": {
            "text/plain": [
              "<tf.Tensor: shape=(2,), dtype=int32, numpy=array([10, 10], dtype=int32)>"
            ]
          },
          "metadata": {
            "tags": []
          },
          "execution_count": 70
        }
      ]
    },
    {
      "cell_type": "code",
      "metadata": {
        "colab": {
          "base_uri": "https://localhost:8080/"
        },
        "id": "1mnMG5xofyw7",
        "outputId": "9c334125-71a9-40f1-98e1-7719dcd903fb"
      },
      "source": [
        "# check the dimension of the vector\n",
        "vector.ndim"
      ],
      "execution_count": 71,
      "outputs": [
        {
          "output_type": "execute_result",
          "data": {
            "text/plain": [
              "1"
            ]
          },
          "metadata": {
            "tags": []
          },
          "execution_count": 71
        }
      ]
    },
    {
      "cell_type": "code",
      "metadata": {
        "colab": {
          "base_uri": "https://localhost:8080/"
        },
        "id": "w5ILu9EAf1se",
        "outputId": "52ce3e16-1c79-45c3-f244-1a0fe40899e3"
      },
      "source": [
        "# Create a matrix(has more than 1 dimension)\n",
        "matrix=tf.constant([[10,7],\n",
        "                    [7,10]])\n",
        "matrix"
      ],
      "execution_count": 72,
      "outputs": [
        {
          "output_type": "execute_result",
          "data": {
            "text/plain": [
              "<tf.Tensor: shape=(2, 2), dtype=int32, numpy=\n",
              "array([[10,  7],\n",
              "       [ 7, 10]], dtype=int32)>"
            ]
          },
          "metadata": {
            "tags": []
          },
          "execution_count": 72
        }
      ]
    },
    {
      "cell_type": "code",
      "metadata": {
        "colab": {
          "base_uri": "https://localhost:8080/"
        },
        "id": "fB0B6ZVfgRpF",
        "outputId": "14c8d64d-c0cf-4550-d3e2-f04318b8accd"
      },
      "source": [
        "matrix.ndim"
      ],
      "execution_count": 73,
      "outputs": [
        {
          "output_type": "execute_result",
          "data": {
            "text/plain": [
              "2"
            ]
          },
          "metadata": {
            "tags": []
          },
          "execution_count": 73
        }
      ]
    },
    {
      "cell_type": "code",
      "metadata": {
        "colab": {
          "base_uri": "https://localhost:8080/"
        },
        "id": "JFEQJ8P_gfgo",
        "outputId": "d452f494-82a3-4bb2-c884-182739fe2f56"
      },
      "source": [
        "# create another matrix\n",
        "another_matrix=tf.constant([[10.,7.],\n",
        "                            [3.,2.],\n",
        "                            [8.,9.]],dtype=tf.float16) #specify the datatype with dtype parameter\n",
        "another_matrix"
      ],
      "execution_count": 74,
      "outputs": [
        {
          "output_type": "execute_result",
          "data": {
            "text/plain": [
              "<tf.Tensor: shape=(3, 2), dtype=float16, numpy=\n",
              "array([[10.,  7.],\n",
              "       [ 3.,  2.],\n",
              "       [ 8.,  9.]], dtype=float16)>"
            ]
          },
          "metadata": {
            "tags": []
          },
          "execution_count": 74
        }
      ]
    },
    {
      "cell_type": "code",
      "metadata": {
        "colab": {
          "base_uri": "https://localhost:8080/"
        },
        "id": "aKKJfbA8hQuv",
        "outputId": "6eac0b93-77bd-4b76-fb4b-dbf5e57e6628"
      },
      "source": [
        "another_matrix.ndim"
      ],
      "execution_count": 75,
      "outputs": [
        {
          "output_type": "execute_result",
          "data": {
            "text/plain": [
              "2"
            ]
          },
          "metadata": {
            "tags": []
          },
          "execution_count": 75
        }
      ]
    },
    {
      "cell_type": "code",
      "metadata": {
        "colab": {
          "base_uri": "https://localhost:8080/"
        },
        "id": "c8aG49WIhVaF",
        "outputId": "b6b60e6e-ae69-4fe3-ad17-3ffbb822dbd3"
      },
      "source": [
        "# Create a tensor\n",
        "tensor=tf.constant([[[1,2,3],\n",
        "                     [4,5,6]],\n",
        "                    [[7,8,9],\n",
        "                     [10,11,12]],\n",
        "                    [[13,14,15],\n",
        "                     [16,17,18]]])\n",
        "tensor"
      ],
      "execution_count": 76,
      "outputs": [
        {
          "output_type": "execute_result",
          "data": {
            "text/plain": [
              "<tf.Tensor: shape=(3, 2, 3), dtype=int32, numpy=\n",
              "array([[[ 1,  2,  3],\n",
              "        [ 4,  5,  6]],\n",
              "\n",
              "       [[ 7,  8,  9],\n",
              "        [10, 11, 12]],\n",
              "\n",
              "       [[13, 14, 15],\n",
              "        [16, 17, 18]]], dtype=int32)>"
            ]
          },
          "metadata": {
            "tags": []
          },
          "execution_count": 76
        }
      ]
    },
    {
      "cell_type": "code",
      "metadata": {
        "colab": {
          "base_uri": "https://localhost:8080/"
        },
        "id": "srlAJ22EiIjr",
        "outputId": "7433942f-9611-459b-b728-cc68ed6cf20b"
      },
      "source": [
        "tensor.ndim"
      ],
      "execution_count": 77,
      "outputs": [
        {
          "output_type": "execute_result",
          "data": {
            "text/plain": [
              "3"
            ]
          },
          "metadata": {
            "tags": []
          },
          "execution_count": 77
        }
      ]
    },
    {
      "cell_type": "markdown",
      "metadata": {
        "id": "w4IPjLg1kG-I"
      },
      "source": [
        "# Variable tensor/changeable tensor"
      ]
    },
    {
      "cell_type": "code",
      "metadata": {
        "id": "uSBJZR_lBUF2",
        "colab": {
          "base_uri": "https://localhost:8080/"
        },
        "outputId": "80c8acfb-0f38-45c1-fbce-4b360c918544"
      },
      "source": [
        "changeable_tensor=tf.Variable([10,7])\n",
        "changeable_tensor"
      ],
      "execution_count": 78,
      "outputs": [
        {
          "output_type": "execute_result",
          "data": {
            "text/plain": [
              "<tf.Variable 'Variable:0' shape=(2,) dtype=int32, numpy=array([10,  7], dtype=int32)>"
            ]
          },
          "metadata": {
            "tags": []
          },
          "execution_count": 78
        }
      ]
    },
    {
      "cell_type": "code",
      "metadata": {
        "colab": {
          "base_uri": "https://localhost:8080/"
        },
        "id": "8tX99DaukcB4",
        "outputId": "e9fc1c95-228e-4672-9476-7e61f62635f4"
      },
      "source": [
        "# Change the first element of the vector\n",
        "print(changeable_tensor[0])\n",
        "changeable_tensor[0].assign(3)\n",
        "changeable_tensor"
      ],
      "execution_count": 79,
      "outputs": [
        {
          "output_type": "stream",
          "text": [
            "tf.Tensor(10, shape=(), dtype=int32)\n"
          ],
          "name": "stdout"
        },
        {
          "output_type": "execute_result",
          "data": {
            "text/plain": [
              "<tf.Variable 'Variable:0' shape=(2,) dtype=int32, numpy=array([3, 7], dtype=int32)>"
            ]
          },
          "metadata": {
            "tags": []
          },
          "execution_count": 79
        }
      ]
    },
    {
      "cell_type": "markdown",
      "metadata": {
        "id": "GuDYOQ1hkqJX"
      },
      "source": [
        "# Creating random tensors\n",
        "Random tensors are tensors of some arbitrary size which contain random numbers"
      ]
    },
    {
      "cell_type": "code",
      "metadata": {
        "id": "xMxGLly_rSJZ",
        "colab": {
          "base_uri": "https://localhost:8080/"
        },
        "outputId": "42d24adc-8baa-474c-8d82-97e73c32b398"
      },
      "source": [
        "# Create 2 random tensors(but the same)\n",
        "random_1=tf.random.Generator.from_seed(42) # set seed for reproducibility\n",
        "random_1=random_1.normal(shape=(3,2))\n",
        "random_2=tf.random.Generator.from_seed(42)\n",
        "random_2=random_2.normal(shape=(3,2))\n",
        "random_1, random_2, random_1==random_2"
      ],
      "execution_count": 80,
      "outputs": [
        {
          "output_type": "execute_result",
          "data": {
            "text/plain": [
              "(<tf.Tensor: shape=(3, 2), dtype=float32, numpy=\n",
              " array([[-0.7565803 , -0.06854702],\n",
              "        [ 0.07595026, -1.2573844 ],\n",
              "        [-0.23193765, -1.8107855 ]], dtype=float32)>,\n",
              " <tf.Tensor: shape=(3, 2), dtype=float32, numpy=\n",
              " array([[-0.7565803 , -0.06854702],\n",
              "        [ 0.07595026, -1.2573844 ],\n",
              "        [-0.23193765, -1.8107855 ]], dtype=float32)>,\n",
              " <tf.Tensor: shape=(3, 2), dtype=bool, numpy=\n",
              " array([[ True,  True],\n",
              "        [ True,  True],\n",
              "        [ True,  True]])>)"
            ]
          },
          "metadata": {
            "tags": []
          },
          "execution_count": 80
        }
      ]
    },
    {
      "cell_type": "code",
      "metadata": {
        "colab": {
          "base_uri": "https://localhost:8080/"
        },
        "id": "SEEggwtTsEJv",
        "outputId": "52742673-2482-4d43-f160-f3dca37aafc1"
      },
      "source": [
        "random_3=tf.random.Generator.from_seed(7)\n",
        "random_3=random_3.normal(shape=(3,2))\n",
        "random_2, random_3, random_2==random_3"
      ],
      "execution_count": 81,
      "outputs": [
        {
          "output_type": "execute_result",
          "data": {
            "text/plain": [
              "(<tf.Tensor: shape=(3, 2), dtype=float32, numpy=\n",
              " array([[-0.7565803 , -0.06854702],\n",
              "        [ 0.07595026, -1.2573844 ],\n",
              "        [-0.23193765, -1.8107855 ]], dtype=float32)>,\n",
              " <tf.Tensor: shape=(3, 2), dtype=float32, numpy=\n",
              " array([[-1.3240396 ,  0.2878567 ],\n",
              "        [-0.8757901 , -0.08857017],\n",
              "        [ 0.69211644,  0.84215707]], dtype=float32)>,\n",
              " <tf.Tensor: shape=(3, 2), dtype=bool, numpy=\n",
              " array([[False, False],\n",
              "        [False, False],\n",
              "        [False, False]])>)"
            ]
          },
          "metadata": {
            "tags": []
          },
          "execution_count": 81
        }
      ]
    },
    {
      "cell_type": "markdown",
      "metadata": {
        "id": "QO2GoFFlu61E"
      },
      "source": [
        "# Shuffle the order of elements in a tensor"
      ]
    },
    {
      "cell_type": "code",
      "metadata": {
        "colab": {
          "base_uri": "https://localhost:8080/"
        },
        "id": "iRWFHydoJh46",
        "outputId": "0e64a411-2089-4232-8e98-b6d6a37e1522"
      },
      "source": [
        "not_shuffled1=tf.random.Generator.from_seed(42)\n",
        "not_shuffled1=not_shuffled1.normal(shape=(3,2))\n",
        "not_shuffled2=tf.random.Generator.from_seed(20)\n",
        "not_shuffled2=not_shuffled2.normal(shape=(3,2))\n",
        "not_shuffled3=tf.random.Generator.from_seed(15)\n",
        "not_shuffled3=not_shuffled3.normal(shape=(3,2))\n",
        "not_shuffled4=tf.random.Generator.from_seed(5)\n",
        "not_shuffled4=not_shuffled4.normal(shape=(3,2))\n",
        "not_shuffled5=tf.random.Generator.from_seed(7)\n",
        "not_shuffled5=not_shuffled5.normal(shape=(3,2))\n",
        "not_shuffled1, not_shuffled2, not_shuffled3, not_shuffled4, not_shuffled5"
      ],
      "execution_count": 82,
      "outputs": [
        {
          "output_type": "execute_result",
          "data": {
            "text/plain": [
              "(<tf.Tensor: shape=(3, 2), dtype=float32, numpy=\n",
              " array([[-0.7565803 , -0.06854702],\n",
              "        [ 0.07595026, -1.2573844 ],\n",
              "        [-0.23193765, -1.8107855 ]], dtype=float32)>,\n",
              " <tf.Tensor: shape=(3, 2), dtype=float32, numpy=\n",
              " array([[ 0.88051325, -1.6833194 ],\n",
              "        [ 0.86754173, -0.19625713],\n",
              "        [-1.322665  , -0.02279496]], dtype=float32)>,\n",
              " <tf.Tensor: shape=(3, 2), dtype=float32, numpy=\n",
              " array([[ 0.33149976, -0.5445254 ],\n",
              "        [ 1.5222508 ,  0.59303206],\n",
              "        [-0.63509274,  0.3703566 ]], dtype=float32)>,\n",
              " <tf.Tensor: shape=(3, 2), dtype=float32, numpy=\n",
              " array([[ 1.0278524 ,  0.27974114],\n",
              "        [-0.01347923,  1.845181  ],\n",
              "        [ 0.9706111 , -1.0242517 ]], dtype=float32)>,\n",
              " <tf.Tensor: shape=(3, 2), dtype=float32, numpy=\n",
              " array([[-1.3240396 ,  0.2878567 ],\n",
              "        [-0.8757901 , -0.08857017],\n",
              "        [ 0.69211644,  0.84215707]], dtype=float32)>)"
            ]
          },
          "metadata": {
            "tags": []
          },
          "execution_count": 82
        }
      ]
    },
    {
      "cell_type": "code",
      "metadata": {
        "colab": {
          "base_uri": "https://localhost:8080/"
        },
        "id": "tZVUL3lRKiJ_",
        "outputId": "bf239a84-f17d-4996-ee74-93beed48bea7"
      },
      "source": [
        "# Shuffle our non-shuffled tensor\n",
        "print(tf.random.shuffle(not_shuffled1))\n",
        "print(tf.random.shuffle(not_shuffled2))\n",
        "print(tf.random.shuffle(not_shuffled3))\n",
        "print(tf.random.shuffle(not_shuffled4))\n",
        "print(tf.random.shuffle(not_shuffled5))"
      ],
      "execution_count": 83,
      "outputs": [
        {
          "output_type": "stream",
          "text": [
            "tf.Tensor(\n",
            "[[-0.7565803  -0.06854702]\n",
            " [ 0.07595026 -1.2573844 ]\n",
            " [-0.23193765 -1.8107855 ]], shape=(3, 2), dtype=float32)\n",
            "tf.Tensor(\n",
            "[[ 0.86754173 -0.19625713]\n",
            " [-1.322665   -0.02279496]\n",
            " [ 0.88051325 -1.6833194 ]], shape=(3, 2), dtype=float32)\n",
            "tf.Tensor(\n",
            "[[-0.63509274  0.3703566 ]\n",
            " [ 1.5222508   0.59303206]\n",
            " [ 0.33149976 -0.5445254 ]], shape=(3, 2), dtype=float32)\n",
            "tf.Tensor(\n",
            "[[ 1.0278524   0.27974114]\n",
            " [ 0.9706111  -1.0242517 ]\n",
            " [-0.01347923  1.845181  ]], shape=(3, 2), dtype=float32)\n",
            "tf.Tensor(\n",
            "[[-0.8757901  -0.08857017]\n",
            " [ 0.69211644  0.84215707]\n",
            " [-1.3240396   0.2878567 ]], shape=(3, 2), dtype=float32)\n"
          ],
          "name": "stdout"
        }
      ]
    },
    {
      "cell_type": "code",
      "metadata": {
        "colab": {
          "base_uri": "https://localhost:8080/"
        },
        "id": "dN4Y5cTtLDYc",
        "outputId": "8fd757e1-c794-4b2f-c131-162042577528"
      },
      "source": [
        "tf.random.set_seed(4)\n",
        "tf.random.shuffle(not_shuffled1)"
      ],
      "execution_count": 85,
      "outputs": [
        {
          "output_type": "execute_result",
          "data": {
            "text/plain": [
              "<tf.Tensor: shape=(3, 2), dtype=float32, numpy=\n",
              "array([[-0.7565803 , -0.06854702],\n",
              "       [ 0.07595026, -1.2573844 ],\n",
              "       [-0.23193765, -1.8107855 ]], dtype=float32)>"
            ]
          },
          "metadata": {
            "tags": []
          },
          "execution_count": 85
        }
      ]
    },
    {
      "cell_type": "code",
      "metadata": {
        "colab": {
          "base_uri": "https://localhost:8080/"
        },
        "id": "vQoQoi8mLiDG",
        "outputId": "fc4e60e0-f799-4133-ec5e-0f494f877401"
      },
      "source": [
        "tf.random.set_seed(4)\n",
        "tf.random.shuffle(not_shuffled1,seed=5)"
      ],
      "execution_count": 89,
      "outputs": [
        {
          "output_type": "execute_result",
          "data": {
            "text/plain": [
              "<tf.Tensor: shape=(3, 2), dtype=float32, numpy=\n",
              "array([[-0.23193765, -1.8107855 ],\n",
              "       [-0.7565803 , -0.06854702],\n",
              "       [ 0.07595026, -1.2573844 ]], dtype=float32)>"
            ]
          },
          "metadata": {
            "tags": []
          },
          "execution_count": 89
        }
      ]
    },
    {
      "cell_type": "code",
      "metadata": {
        "colab": {
          "base_uri": "https://localhost:8080/"
        },
        "id": "Qt7fgZqJMRWy",
        "outputId": "d20d19af-2a50-4299-f0e5-dcba79938a46"
      },
      "source": [
        "tf.random.set_seed(4)\n",
        "tf.random.shuffle(not_shuffled1,seed=3)"
      ],
      "execution_count": 92,
      "outputs": [
        {
          "output_type": "execute_result",
          "data": {
            "text/plain": [
              "<tf.Tensor: shape=(3, 2), dtype=float32, numpy=\n",
              "array([[-0.7565803 , -0.06854702],\n",
              "       [ 0.07595026, -1.2573844 ],\n",
              "       [-0.23193765, -1.8107855 ]], dtype=float32)>"
            ]
          },
          "metadata": {
            "tags": []
          },
          "execution_count": 92
        }
      ]
    },
    {
      "cell_type": "code",
      "metadata": {
        "id": "B4bz43OtNKuN"
      },
      "source": [
        ""
      ],
      "execution_count": null,
      "outputs": []
    }
  ]
}