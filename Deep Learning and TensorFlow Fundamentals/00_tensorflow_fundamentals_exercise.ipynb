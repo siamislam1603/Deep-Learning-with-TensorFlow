{
  "nbformat": 4,
  "nbformat_minor": 0,
  "metadata": {
    "colab": {
      "name": "00_tensorflow_fundamentals_exercise.ipynb",
      "provenance": [],
      "authorship_tag": "ABX9TyMpN3O9PGnu1zicrFP9qx37"
    },
    "kernelspec": {
      "name": "python3",
      "display_name": "Python 3"
    },
    "language_info": {
      "name": "python"
    }
  },
  "cells": [
    {
      "cell_type": "code",
      "metadata": {
        "id": "GfCFa05fXl9X"
      },
      "source": [
        "import tensorflow as tf\n",
        "import numpy as np"
      ],
      "execution_count": 1,
      "outputs": []
    },
    {
      "cell_type": "markdown",
      "metadata": {
        "id": "T-IDqQmIW9Gk"
      },
      "source": [
        "1. Create a vector, scalar, matrix and tensor with values of your choosing using `tf.constant()`."
      ]
    },
    {
      "cell_type": "code",
      "metadata": {
        "colab": {
          "base_uri": "https://localhost:8080/"
        },
        "id": "AQVtrSDTXOL-",
        "outputId": "91791169-e8ec-4bb4-b762-305bea45bd71"
      },
      "source": [
        "vector=tf.constant([1,4,5])\n",
        "scalar=tf.constant(30)\n",
        "matrix=tf.constant(np.arange(1,11),shape=(5,2))\n",
        "tensor=tf.constant(np.random.randint(1,size=20),shape=(2,2,5))\n",
        "vector,scalar,matrix,tensor"
      ],
      "execution_count": 9,
      "outputs": [
        {
          "output_type": "execute_result",
          "data": {
            "text/plain": [
              "(<tf.Tensor: shape=(3,), dtype=int32, numpy=array([1, 4, 5], dtype=int32)>,\n",
              " <tf.Tensor: shape=(), dtype=int32, numpy=30>,\n",
              " <tf.Tensor: shape=(5, 2), dtype=int64, numpy=\n",
              " array([[ 1,  2],\n",
              "        [ 3,  4],\n",
              "        [ 5,  6],\n",
              "        [ 7,  8],\n",
              "        [ 9, 10]])>,\n",
              " <tf.Tensor: shape=(2, 2, 5), dtype=int64, numpy=\n",
              " array([[[0, 0, 0, 0, 0],\n",
              "         [0, 0, 0, 0, 0]],\n",
              " \n",
              "        [[0, 0, 0, 0, 0],\n",
              "         [0, 0, 0, 0, 0]]])>)"
            ]
          },
          "metadata": {
            "tags": []
          },
          "execution_count": 9
        }
      ]
    },
    {
      "cell_type": "markdown",
      "metadata": {
        "id": "7DpTyjdRX0da"
      },
      "source": [
        "2. Find the shape, rank and size of the tensors you created in 1."
      ]
    },
    {
      "cell_type": "code",
      "metadata": {
        "id": "BTVSqfe5YeXZ"
      },
      "source": [
        "def attributes_of_tensors(tensor,tensor_name):\n",
        "  print(f'Shape of the {tensor_name}:{tensor.shape}')\n",
        "  print(f'Rank of the {tensor_name}:{tf.rank(tensor)}')\n",
        "  print(f'Size of the {tensor_name}:{tf.size(tensor)}')"
      ],
      "execution_count": 12,
      "outputs": []
    },
    {
      "cell_type": "code",
      "metadata": {
        "colab": {
          "base_uri": "https://localhost:8080/"
        },
        "id": "uaI5IUdgY2ic",
        "outputId": "a0de89bc-7dd3-41d6-bf1b-ac97cf488c98"
      },
      "source": [
        "attributes_of_tensors(vector,'vector')\n",
        "attributes_of_tensors(scalar,'scalar')\n",
        "attributes_of_tensors(matrix,'matrix')\n",
        "attributes_of_tensors(tensor,'tensor')"
      ],
      "execution_count": 13,
      "outputs": [
        {
          "output_type": "stream",
          "text": [
            "Shape of the vector:(3,)\n",
            "Rank of the vector:1\n",
            "Size of the vector:3\n",
            "Shape of the scalar:()\n",
            "Rank of the scalar:0\n",
            "Size of the scalar:1\n",
            "Shape of the matrix:(5, 2)\n",
            "Rank of the matrix:2\n",
            "Size of the matrix:10\n",
            "Shape of the tensor:(2, 2, 5)\n",
            "Rank of the tensor:3\n",
            "Size of the tensor:20\n"
          ],
          "name": "stdout"
        }
      ]
    },
    {
      "cell_type": "markdown",
      "metadata": {
        "id": "dVFey2kVZ-P3"
      },
      "source": [
        "3. Create two tensors containing random values between 0 and 1 with shape `[5, 300]`."
      ]
    },
    {
      "cell_type": "code",
      "metadata": {
        "colab": {
          "base_uri": "https://localhost:8080/"
        },
        "id": "J72KMkvCak6p",
        "outputId": "81c6db69-94c3-49ad-d5ab-42d2a6559d49"
      },
      "source": [
        "tf.random.set_seed(42)\n",
        "tensor1=tf.random.uniform(shape=[5,300])\n",
        "tensor2=tf.random.uniform(shape=[5,300])\n",
        "tensor1,tensor2"
      ],
      "execution_count": 20,
      "outputs": [
        {
          "output_type": "execute_result",
          "data": {
            "text/plain": [
              "(<tf.Tensor: shape=(5, 300), dtype=float32, numpy=\n",
              " array([[0.6645621 , 0.44100678, 0.3528825 , ..., 0.31410468, 0.7593535 ,\n",
              "         0.03699052],\n",
              "        [0.532024  , 0.29129946, 0.10571766, ..., 0.54052293, 0.31425726,\n",
              "         0.2200619 ],\n",
              "        [0.08404207, 0.03614604, 0.97732127, ..., 0.21516645, 0.9786098 ,\n",
              "         0.00726748],\n",
              "        [0.7396945 , 0.6653172 , 0.0787828 , ..., 0.7117733 , 0.07013571,\n",
              "         0.9409125 ],\n",
              "        [0.15861344, 0.12024033, 0.27218235, ..., 0.8824879 , 0.1432488 ,\n",
              "         0.44135118]], dtype=float32)>,\n",
              " <tf.Tensor: shape=(5, 300), dtype=float32, numpy=\n",
              " array([[0.68789124, 0.48447883, 0.9309944 , ..., 0.6920762 , 0.33180213,\n",
              "         0.9212563 ],\n",
              "        [0.27369928, 0.10631859, 0.6218617 , ..., 0.4382149 , 0.30427706,\n",
              "         0.51477313],\n",
              "        [0.00920248, 0.37280262, 0.8177401 , ..., 0.56786287, 0.49201214,\n",
              "         0.9892651 ],\n",
              "        [0.88608265, 0.08672249, 0.12160683, ..., 0.91770685, 0.72545695,\n",
              "         0.8280058 ],\n",
              "        [0.36690474, 0.9200133 , 0.9646884 , ..., 0.69012   , 0.7137332 ,\n",
              "         0.2584542 ]], dtype=float32)>)"
            ]
          },
          "metadata": {
            "tags": []
          },
          "execution_count": 20
        }
      ]
    },
    {
      "cell_type": "markdown",
      "metadata": {
        "id": "jqLQpaVlbBQa"
      },
      "source": [
        "4. Multiply the two tensors you created in 3 using matrix multiplication."
      ]
    },
    {
      "cell_type": "code",
      "metadata": {
        "colab": {
          "base_uri": "https://localhost:8080/"
        },
        "id": "Y9Jkp4cLbaJY",
        "outputId": "8c5a7cc2-a764-4982-903c-76c17f2dd99a"
      },
      "source": [
        "tf.matmul(tensor1,tf.transpose(tensor2))"
      ],
      "execution_count": 28,
      "outputs": [
        {
          "output_type": "execute_result",
          "data": {
            "text/plain": [
              "<tf.Tensor: shape=(5, 5), dtype=float32, numpy=\n",
              "array([[80.33342 , 73.404976, 77.15962 , 73.98367 , 80.90054 ],\n",
              "       [75.14636 , 68.80438 , 74.24302 , 71.84183 , 75.60205 ],\n",
              "       [79.759415, 75.64456 , 77.797585, 74.74874 , 80.55982 ],\n",
              "       [75.08525 , 69.06407 , 74.30776 , 72.27615 , 76.05669 ],\n",
              "       [85.0569  , 74.266266, 78.00686 , 74.88679 , 83.134155]],\n",
              "      dtype=float32)>"
            ]
          },
          "metadata": {
            "tags": []
          },
          "execution_count": 28
        }
      ]
    },
    {
      "cell_type": "markdown",
      "metadata": {
        "id": "ibqq_lKTggfT"
      },
      "source": [
        "5. Multiply the two tensors you created in 3 using dot product."
      ]
    },
    {
      "cell_type": "code",
      "metadata": {
        "colab": {
          "base_uri": "https://localhost:8080/"
        },
        "id": "zewZ1PA9biJO",
        "outputId": "d8cc6b1b-7033-42b5-95dc-a3c2935008d9"
      },
      "source": [
        "tf.tensordot(tensor1,tf.transpose(tensor2),axes=1)"
      ],
      "execution_count": 34,
      "outputs": [
        {
          "output_type": "execute_result",
          "data": {
            "text/plain": [
              "<tf.Tensor: shape=(5, 5), dtype=float32, numpy=\n",
              "array([[80.33342 , 73.404976, 77.15962 , 73.98367 , 80.90054 ],\n",
              "       [75.14636 , 68.80438 , 74.24302 , 71.84183 , 75.60205 ],\n",
              "       [79.759415, 75.64456 , 77.797585, 74.74874 , 80.55982 ],\n",
              "       [75.08525 , 69.06407 , 74.30776 , 72.27615 , 76.05669 ],\n",
              "       [85.0569  , 74.266266, 78.00686 , 74.88679 , 83.134155]],\n",
              "      dtype=float32)>"
            ]
          },
          "metadata": {
            "tags": []
          },
          "execution_count": 34
        }
      ]
    },
    {
      "cell_type": "markdown",
      "metadata": {
        "id": "oNSmhfTfffMj"
      },
      "source": [
        "6. Create a tensor with random values between 0 and 1 with shape `[224, 224, 3]`."
      ]
    },
    {
      "cell_type": "code",
      "metadata": {
        "colab": {
          "base_uri": "https://localhost:8080/"
        },
        "id": "g0nx6piMgorl",
        "outputId": "2b1bfbbf-3630-41e9-d2a0-b6e38ddde7c4"
      },
      "source": [
        "tf.random.set_seed(42)\n",
        "tensor3=tf.random.normal(shape=[224,224,3])\n",
        "tensor3.shape"
      ],
      "execution_count": 42,
      "outputs": [
        {
          "output_type": "execute_result",
          "data": {
            "text/plain": [
              "TensorShape([224, 224, 3])"
            ]
          },
          "metadata": {
            "tags": []
          },
          "execution_count": 42
        }
      ]
    },
    {
      "cell_type": "markdown",
      "metadata": {
        "id": "xhf0Y6sWhDpx"
      },
      "source": [
        "7. Find the min and max values of the tensor you created in 6 along the first axis."
      ]
    },
    {
      "cell_type": "code",
      "metadata": {
        "colab": {
          "base_uri": "https://localhost:8080/"
        },
        "id": "6zspjNt0hMlz",
        "outputId": "cdf59e5d-040e-40a6-c7d1-da5069b689bd"
      },
      "source": [
        "print('Max value of tensor:',tf.reduce_max(tensor3))\n",
        "print('Min value of tensor:',tf.reduce_min(tensor3))"
      ],
      "execution_count": 50,
      "outputs": [
        {
          "output_type": "stream",
          "text": [
            "Max value of tensor: tf.Tensor(4.486006, shape=(), dtype=float32)\n",
            "Min value of tensor: tf.Tensor(-5.4462285, shape=(), dtype=float32)\n"
          ],
          "name": "stdout"
        }
      ]
    },
    {
      "cell_type": "markdown",
      "metadata": {
        "id": "18C5piFihaFT"
      },
      "source": [
        "8. Created a tensor with random values of shape `[1, 224, 224, 3]` then squeeze it to change the shape to `[224, 224, 3]`."
      ]
    },
    {
      "cell_type": "code",
      "metadata": {
        "colab": {
          "base_uri": "https://localhost:8080/"
        },
        "id": "rcaR_ksSk2PM",
        "outputId": "d4dd6f53-756a-4c5c-f0eb-0ce0387b6b06"
      },
      "source": [
        "tf.random.set_seed(42)\n",
        "tensor4=tf.random.normal(shape=[1,224,224,3])\n",
        "tf.squeeze(tensor4).shape"
      ],
      "execution_count": 52,
      "outputs": [
        {
          "output_type": "execute_result",
          "data": {
            "text/plain": [
              "TensorShape([224, 224, 3])"
            ]
          },
          "metadata": {
            "tags": []
          },
          "execution_count": 52
        }
      ]
    },
    {
      "cell_type": "markdown",
      "metadata": {
        "id": "xFqPBDswlLnZ"
      },
      "source": [
        "9. Create a tensor with shape [10] using your own choice of values, then find the index which has the maximum value."
      ]
    },
    {
      "cell_type": "code",
      "metadata": {
        "colab": {
          "base_uri": "https://localhost:8080/"
        },
        "id": "7oOC85ZqlVdi",
        "outputId": "af90fd68-7716-458b-8ec8-d5eded8a2138"
      },
      "source": [
        "tf.random.set_seed(42)\n",
        "tensor5=tf.constant(np.random.randint(0,10,size=10))\n",
        "tensor5"
      ],
      "execution_count": 59,
      "outputs": [
        {
          "output_type": "execute_result",
          "data": {
            "text/plain": [
              "<tf.Tensor: shape=(10,), dtype=int64, numpy=array([9, 4, 5, 2, 7, 3, 4, 4, 0, 4])>"
            ]
          },
          "metadata": {
            "tags": []
          },
          "execution_count": 59
        }
      ]
    },
    {
      "cell_type": "code",
      "metadata": {
        "colab": {
          "base_uri": "https://localhost:8080/"
        },
        "id": "GXPBK64_lq5t",
        "outputId": "b5b4fa05-4b5f-4585-df69-8204b70abed8"
      },
      "source": [
        "tf.argmax(tensor5)"
      ],
      "execution_count": 60,
      "outputs": [
        {
          "output_type": "execute_result",
          "data": {
            "text/plain": [
              "<tf.Tensor: shape=(), dtype=int64, numpy=0>"
            ]
          },
          "metadata": {
            "tags": []
          },
          "execution_count": 60
        }
      ]
    },
    {
      "cell_type": "markdown",
      "metadata": {
        "id": "iOg48-Uwl3zR"
      },
      "source": [
        "10. One-hot encode the tensor you created in 9."
      ]
    },
    {
      "cell_type": "code",
      "metadata": {
        "colab": {
          "base_uri": "https://localhost:8080/"
        },
        "id": "eqC_WwHLmEI3",
        "outputId": "a220023e-a020-464c-9cab-65f3e9164e88"
      },
      "source": [
        "tf.one_hot(tensor5,depth=10)"
      ],
      "execution_count": 62,
      "outputs": [
        {
          "output_type": "execute_result",
          "data": {
            "text/plain": [
              "<tf.Tensor: shape=(10, 10), dtype=float32, numpy=\n",
              "array([[0., 0., 0., 0., 0., 0., 0., 0., 0., 1.],\n",
              "       [0., 0., 0., 0., 1., 0., 0., 0., 0., 0.],\n",
              "       [0., 0., 0., 0., 0., 1., 0., 0., 0., 0.],\n",
              "       [0., 0., 1., 0., 0., 0., 0., 0., 0., 0.],\n",
              "       [0., 0., 0., 0., 0., 0., 0., 1., 0., 0.],\n",
              "       [0., 0., 0., 1., 0., 0., 0., 0., 0., 0.],\n",
              "       [0., 0., 0., 0., 1., 0., 0., 0., 0., 0.],\n",
              "       [0., 0., 0., 0., 1., 0., 0., 0., 0., 0.],\n",
              "       [1., 0., 0., 0., 0., 0., 0., 0., 0., 0.],\n",
              "       [0., 0., 0., 0., 1., 0., 0., 0., 0., 0.]], dtype=float32)>"
            ]
          },
          "metadata": {
            "tags": []
          },
          "execution_count": 62
        }
      ]
    },
    {
      "cell_type": "code",
      "metadata": {
        "id": "ytX-k3EjmJDP"
      },
      "source": [
        ""
      ],
      "execution_count": null,
      "outputs": []
    }
  ]
}